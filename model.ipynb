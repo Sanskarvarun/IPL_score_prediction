{
 "cells": [
  {
   "cell_type": "code",
   "execution_count": 1,
   "metadata": {},
   "outputs": [],
   "source": [
    "import pandas as pd\n",
    "import numpy as np\n",
    "import matplotlib.pyplot as plt\n",
    "import seaborn as sns\n",
    "from sklearn import preprocessing\n",
    "import keras \n",
    "import tensorflow as tf \n"
   ]
  },
  {
   "cell_type": "code",
   "execution_count": 3,
   "metadata": {},
   "outputs": [
    {
     "data": {
      "text/html": [
       "<div>\n",
       "<style scoped>\n",
       "    .dataframe tbody tr th:only-of-type {\n",
       "        vertical-align: middle;\n",
       "    }\n",
       "\n",
       "    .dataframe tbody tr th {\n",
       "        vertical-align: top;\n",
       "    }\n",
       "\n",
       "    .dataframe thead th {\n",
       "        text-align: right;\n",
       "    }\n",
       "</style>\n",
       "<table border=\"1\" class=\"dataframe\">\n",
       "  <thead>\n",
       "    <tr style=\"text-align: right;\">\n",
       "      <th></th>\n",
       "      <th>mid</th>\n",
       "      <th>date</th>\n",
       "      <th>venue</th>\n",
       "      <th>bat_team</th>\n",
       "      <th>bowl_team</th>\n",
       "      <th>batsman</th>\n",
       "      <th>bowler</th>\n",
       "      <th>runs</th>\n",
       "      <th>wickets</th>\n",
       "      <th>overs</th>\n",
       "      <th>runs_last_5</th>\n",
       "      <th>wickets_last_5</th>\n",
       "      <th>striker</th>\n",
       "      <th>non-striker</th>\n",
       "      <th>total</th>\n",
       "    </tr>\n",
       "  </thead>\n",
       "  <tbody>\n",
       "    <tr>\n",
       "      <th>0</th>\n",
       "      <td>1</td>\n",
       "      <td>2008-04-18</td>\n",
       "      <td>M Chinnaswamy Stadium</td>\n",
       "      <td>Kolkata Knight Riders</td>\n",
       "      <td>Royal Challengers Bangalore</td>\n",
       "      <td>SC Ganguly</td>\n",
       "      <td>P Kumar</td>\n",
       "      <td>1</td>\n",
       "      <td>0</td>\n",
       "      <td>0.1</td>\n",
       "      <td>1</td>\n",
       "      <td>0</td>\n",
       "      <td>0</td>\n",
       "      <td>0</td>\n",
       "      <td>222</td>\n",
       "    </tr>\n",
       "    <tr>\n",
       "      <th>1</th>\n",
       "      <td>1</td>\n",
       "      <td>2008-04-18</td>\n",
       "      <td>M Chinnaswamy Stadium</td>\n",
       "      <td>Kolkata Knight Riders</td>\n",
       "      <td>Royal Challengers Bangalore</td>\n",
       "      <td>BB McCullum</td>\n",
       "      <td>P Kumar</td>\n",
       "      <td>1</td>\n",
       "      <td>0</td>\n",
       "      <td>0.2</td>\n",
       "      <td>1</td>\n",
       "      <td>0</td>\n",
       "      <td>0</td>\n",
       "      <td>0</td>\n",
       "      <td>222</td>\n",
       "    </tr>\n",
       "    <tr>\n",
       "      <th>2</th>\n",
       "      <td>1</td>\n",
       "      <td>2008-04-18</td>\n",
       "      <td>M Chinnaswamy Stadium</td>\n",
       "      <td>Kolkata Knight Riders</td>\n",
       "      <td>Royal Challengers Bangalore</td>\n",
       "      <td>BB McCullum</td>\n",
       "      <td>P Kumar</td>\n",
       "      <td>2</td>\n",
       "      <td>0</td>\n",
       "      <td>0.2</td>\n",
       "      <td>2</td>\n",
       "      <td>0</td>\n",
       "      <td>0</td>\n",
       "      <td>0</td>\n",
       "      <td>222</td>\n",
       "    </tr>\n",
       "    <tr>\n",
       "      <th>3</th>\n",
       "      <td>1</td>\n",
       "      <td>2008-04-18</td>\n",
       "      <td>M Chinnaswamy Stadium</td>\n",
       "      <td>Kolkata Knight Riders</td>\n",
       "      <td>Royal Challengers Bangalore</td>\n",
       "      <td>BB McCullum</td>\n",
       "      <td>P Kumar</td>\n",
       "      <td>2</td>\n",
       "      <td>0</td>\n",
       "      <td>0.3</td>\n",
       "      <td>2</td>\n",
       "      <td>0</td>\n",
       "      <td>0</td>\n",
       "      <td>0</td>\n",
       "      <td>222</td>\n",
       "    </tr>\n",
       "    <tr>\n",
       "      <th>4</th>\n",
       "      <td>1</td>\n",
       "      <td>2008-04-18</td>\n",
       "      <td>M Chinnaswamy Stadium</td>\n",
       "      <td>Kolkata Knight Riders</td>\n",
       "      <td>Royal Challengers Bangalore</td>\n",
       "      <td>BB McCullum</td>\n",
       "      <td>P Kumar</td>\n",
       "      <td>2</td>\n",
       "      <td>0</td>\n",
       "      <td>0.4</td>\n",
       "      <td>2</td>\n",
       "      <td>0</td>\n",
       "      <td>0</td>\n",
       "      <td>0</td>\n",
       "      <td>222</td>\n",
       "    </tr>\n",
       "  </tbody>\n",
       "</table>\n",
       "</div>"
      ],
      "text/plain": [
       "   mid        date                  venue               bat_team   \n",
       "0    1  2008-04-18  M Chinnaswamy Stadium  Kolkata Knight Riders  \\\n",
       "1    1  2008-04-18  M Chinnaswamy Stadium  Kolkata Knight Riders   \n",
       "2    1  2008-04-18  M Chinnaswamy Stadium  Kolkata Knight Riders   \n",
       "3    1  2008-04-18  M Chinnaswamy Stadium  Kolkata Knight Riders   \n",
       "4    1  2008-04-18  M Chinnaswamy Stadium  Kolkata Knight Riders   \n",
       "\n",
       "                     bowl_team      batsman   bowler  runs  wickets  overs   \n",
       "0  Royal Challengers Bangalore   SC Ganguly  P Kumar     1        0    0.1  \\\n",
       "1  Royal Challengers Bangalore  BB McCullum  P Kumar     1        0    0.2   \n",
       "2  Royal Challengers Bangalore  BB McCullum  P Kumar     2        0    0.2   \n",
       "3  Royal Challengers Bangalore  BB McCullum  P Kumar     2        0    0.3   \n",
       "4  Royal Challengers Bangalore  BB McCullum  P Kumar     2        0    0.4   \n",
       "\n",
       "   runs_last_5  wickets_last_5  striker  non-striker  total  \n",
       "0            1               0        0            0    222  \n",
       "1            1               0        0            0    222  \n",
       "2            2               0        0            0    222  \n",
       "3            2               0        0            0    222  \n",
       "4            2               0        0            0    222  "
      ]
     },
     "execution_count": 3,
     "metadata": {},
     "output_type": "execute_result"
    }
   ],
   "source": [
    "ipl = pd.read_csv('ipl_data.csv')\n",
    "ipl.head()\n"
   ]
  },
  {
   "cell_type": "code",
   "execution_count": 4,
   "metadata": {},
   "outputs": [],
   "source": [
    "#Dropping certain features \n",
    "df = ipl.drop(['date', 'runs', 'wickets', 'overs', 'runs_last_5', 'wickets_last_5','mid', 'striker', 'non-striker'], axis =1)\n"
   ]
  },
  {
   "cell_type": "code",
   "execution_count": 5,
   "metadata": {},
   "outputs": [],
   "source": [
    "X = df.drop(['total'], axis =1)\n",
    "y = df['total']"
   ]
  },
  {
   "cell_type": "code",
   "execution_count": 6,
   "metadata": {},
   "outputs": [],
   "source": [
    "#Label Encoding\n",
    "\n",
    "from sklearn.preprocessing import LabelEncoder\n",
    "\n",
    "# Create a LabelEncoder object for each categorical feature\n",
    "venue_encoder = LabelEncoder()\n",
    "batting_team_encoder = LabelEncoder()\n",
    "bowling_team_encoder = LabelEncoder()\n",
    "striker_encoder = LabelEncoder()\n",
    "bowler_encoder = LabelEncoder()\n",
    "\n",
    "# Fit and transform the categorical features with label encoding\n",
    "X['venue'] = venue_encoder.fit_transform(X['venue'])\n",
    "X['bat_team'] = batting_team_encoder.fit_transform(X['bat_team'])\n",
    "X['bowl_team'] = bowling_team_encoder.fit_transform(X['bowl_team'])\n",
    "X['batsman'] = striker_encoder.fit_transform(X['batsman'])\n",
    "X['bowler'] = bowler_encoder.fit_transform(X['bowler'])\n"
   ]
  },
  {
   "cell_type": "code",
   "execution_count": 7,
   "metadata": {},
   "outputs": [],
   "source": [
    "# Train test Split \n",
    "from sklearn.model_selection import train_test_split\n",
    "X_train, X_test, y_train, y_test = train_test_split(X, y, test_size=0.3, random_state=42)\n"
   ]
  },
  {
   "cell_type": "code",
   "execution_count": 14,
   "metadata": {},
   "outputs": [],
   "source": [
    "from sklearn.preprocessing import MinMaxScaler\n",
    "\n",
    "scaler = MinMaxScaler()\n",
    "\n",
    "# Fit the scaler on the training data and transform both training and testing data\n",
    "X_train_scaled = scaler.fit_transform(X_train)\n",
    "X_test_scaled = scaler.transform(X_test)\n"
   ]
  },
  {
   "cell_type": "code",
   "execution_count": 15,
   "metadata": {},
   "outputs": [],
   "source": [
    "import pickle\n",
    "pickle.dump(scaler, open('scaling.pkl', 'wb'))"
   ]
  },
  {
   "cell_type": "code",
   "execution_count": 9,
   "metadata": {},
   "outputs": [],
   "source": [
    "# Define the neural network model\n",
    "model = keras.Sequential([\n",
    "    keras.layers.Input( shape=(X_train_scaled.shape[1],)),  # Input layer\n",
    "    keras.layers.Dense(512, activation='relu'),  # Hidden layer with 512 units and ReLU activation\n",
    "    keras.layers.Dense(216, activation='relu'),  # Hidden layer with 216 units and ReLU activation\n",
    "    keras.layers.Dense(1, activation='linear')  # Output layer with linear activation for regression\n",
    "])\n",
    "\n",
    "# Compile the model with Huber loss\n",
    "huber_loss = tf.keras.losses.Huber(delta=1.0)  # You can adjust the 'delta' parameter as needed\n",
    "model.compile(optimizer='adam', loss=huber_loss)  # Use Huber loss for regression\n"
   ]
  },
  {
   "cell_type": "code",
   "execution_count": 10,
   "metadata": {},
   "outputs": [
    {
     "name": "stdout",
     "output_type": "stream",
     "text": [
      "Epoch 1/50\n",
      "832/832 [==============================] - 6s 4ms/step - loss: 32.6122 - val_loss: 22.0624\n",
      "Epoch 2/50\n",
      "832/832 [==============================] - 3s 4ms/step - loss: 22.3584 - val_loss: 21.9859\n",
      "Epoch 3/50\n",
      "832/832 [==============================] - 3s 4ms/step - loss: 22.2615 - val_loss: 22.4556\n",
      "Epoch 4/50\n",
      "832/832 [==============================] - 3s 4ms/step - loss: 22.2647 - val_loss: 22.1719\n",
      "Epoch 5/50\n",
      "832/832 [==============================] - 3s 4ms/step - loss: 22.2325 - val_loss: 21.8940\n",
      "Epoch 6/50\n",
      "832/832 [==============================] - 3s 4ms/step - loss: 22.1821 - val_loss: 21.8817\n",
      "Epoch 7/50\n",
      "832/832 [==============================] - 3s 4ms/step - loss: 22.1712 - val_loss: 21.9049\n",
      "Epoch 8/50\n",
      "832/832 [==============================] - 3s 4ms/step - loss: 22.1406 - val_loss: 21.8732\n",
      "Epoch 9/50\n",
      "832/832 [==============================] - 3s 4ms/step - loss: 22.1199 - val_loss: 22.0601\n",
      "Epoch 10/50\n",
      "832/832 [==============================] - 3s 4ms/step - loss: 22.1471 - val_loss: 21.8378\n",
      "Epoch 11/50\n",
      "832/832 [==============================] - 3s 4ms/step - loss: 22.0689 - val_loss: 22.0714\n",
      "Epoch 12/50\n",
      "832/832 [==============================] - 3s 4ms/step - loss: 22.0921 - val_loss: 22.1598\n",
      "Epoch 13/50\n",
      "832/832 [==============================] - 3s 4ms/step - loss: 22.0764 - val_loss: 21.7642\n",
      "Epoch 14/50\n",
      "832/832 [==============================] - 3s 4ms/step - loss: 22.0859 - val_loss: 21.7681\n",
      "Epoch 15/50\n",
      "832/832 [==============================] - 3s 4ms/step - loss: 22.0704 - val_loss: 22.5591\n",
      "Epoch 16/50\n",
      "832/832 [==============================] - 3s 4ms/step - loss: 22.0685 - val_loss: 21.7491\n",
      "Epoch 17/50\n",
      "832/832 [==============================] - 3s 4ms/step - loss: 22.0112 - val_loss: 21.8685\n",
      "Epoch 18/50\n",
      "832/832 [==============================] - 3s 4ms/step - loss: 21.8830 - val_loss: 21.5963\n",
      "Epoch 19/50\n",
      "832/832 [==============================] - 3s 4ms/step - loss: 21.8766 - val_loss: 21.6184\n",
      "Epoch 20/50\n",
      "832/832 [==============================] - 3s 4ms/step - loss: 21.7614 - val_loss: 21.5991\n",
      "Epoch 21/50\n",
      "832/832 [==============================] - 3s 4ms/step - loss: 21.7199 - val_loss: 21.6608\n",
      "Epoch 22/50\n",
      "832/832 [==============================] - 3s 4ms/step - loss: 21.6922 - val_loss: 21.4551\n",
      "Epoch 23/50\n",
      "832/832 [==============================] - 3s 4ms/step - loss: 21.6337 - val_loss: 21.3210\n",
      "Epoch 24/50\n",
      "832/832 [==============================] - 3s 4ms/step - loss: 21.5897 - val_loss: 21.3793\n",
      "Epoch 25/50\n",
      "832/832 [==============================] - 3s 4ms/step - loss: 21.5569 - val_loss: 21.2650\n",
      "Epoch 26/50\n",
      "832/832 [==============================] - 3s 4ms/step - loss: 21.4790 - val_loss: 21.2208\n",
      "Epoch 27/50\n",
      "832/832 [==============================] - 3s 4ms/step - loss: 21.4191 - val_loss: 21.1046\n",
      "Epoch 28/50\n",
      "832/832 [==============================] - 3s 4ms/step - loss: 21.4115 - val_loss: 22.0400\n",
      "Epoch 29/50\n",
      "832/832 [==============================] - 3s 4ms/step - loss: 21.3012 - val_loss: 20.9855\n",
      "Epoch 30/50\n",
      "832/832 [==============================] - 3s 4ms/step - loss: 21.2407 - val_loss: 20.9755\n",
      "Epoch 31/50\n",
      "832/832 [==============================] - 3s 4ms/step - loss: 21.1733 - val_loss: 20.9210\n",
      "Epoch 32/50\n",
      "832/832 [==============================] - 3s 4ms/step - loss: 21.1089 - val_loss: 20.8680\n",
      "Epoch 33/50\n",
      "832/832 [==============================] - 3s 4ms/step - loss: 21.0564 - val_loss: 20.7876\n",
      "Epoch 34/50\n",
      "832/832 [==============================] - 4s 5ms/step - loss: 20.9832 - val_loss: 20.6460\n",
      "Epoch 35/50\n",
      "832/832 [==============================] - 4s 5ms/step - loss: 20.8640 - val_loss: 20.7055\n",
      "Epoch 36/50\n",
      "832/832 [==============================] - 4s 4ms/step - loss: 20.7983 - val_loss: 20.4883\n",
      "Epoch 37/50\n",
      "832/832 [==============================] - 3s 4ms/step - loss: 20.6825 - val_loss: 20.6055\n",
      "Epoch 38/50\n",
      "832/832 [==============================] - 3s 4ms/step - loss: 20.6130 - val_loss: 20.2738\n",
      "Epoch 39/50\n",
      "832/832 [==============================] - 4s 4ms/step - loss: 20.4722 - val_loss: 20.1893\n",
      "Epoch 40/50\n",
      "832/832 [==============================] - 4s 4ms/step - loss: 20.3561 - val_loss: 20.3071\n",
      "Epoch 41/50\n",
      "832/832 [==============================] - 3s 4ms/step - loss: 20.2781 - val_loss: 20.0502\n",
      "Epoch 42/50\n",
      "832/832 [==============================] - 3s 4ms/step - loss: 20.2177 - val_loss: 19.9127\n",
      "Epoch 43/50\n",
      "832/832 [==============================] - 3s 4ms/step - loss: 20.1176 - val_loss: 20.0643\n",
      "Epoch 44/50\n",
      "832/832 [==============================] - 3s 4ms/step - loss: 20.1114 - val_loss: 19.7821\n",
      "Epoch 45/50\n",
      "832/832 [==============================] - 4s 4ms/step - loss: 20.0071 - val_loss: 19.8487\n",
      "Epoch 46/50\n",
      "832/832 [==============================] - 4s 4ms/step - loss: 19.8897 - val_loss: 19.7001\n",
      "Epoch 47/50\n",
      "832/832 [==============================] - 3s 4ms/step - loss: 19.8516 - val_loss: 19.4903\n",
      "Epoch 48/50\n",
      "832/832 [==============================] - 3s 4ms/step - loss: 19.7411 - val_loss: 19.4754\n",
      "Epoch 49/50\n",
      "832/832 [==============================] - 4s 4ms/step - loss: 19.6659 - val_loss: 19.3803\n",
      "Epoch 50/50\n",
      "832/832 [==============================] - 4s 4ms/step - loss: 19.5707 - val_loss: 19.4084\n"
     ]
    },
    {
     "data": {
      "text/plain": [
       "<keras.callbacks.History at 0x12214553c70>"
      ]
     },
     "execution_count": 10,
     "metadata": {},
     "output_type": "execute_result"
    }
   ],
   "source": [
    "# Train the model\n",
    "model.fit(X_train_scaled, y_train, epochs=50, batch_size=64, validation_data=(X_test_scaled, y_test))\n"
   ]
  },
  {
   "cell_type": "code",
   "execution_count": 12,
   "metadata": {},
   "outputs": [
    {
     "data": {
      "text/plain": [
       "<Axes: >"
      ]
     },
     "execution_count": 12,
     "metadata": {},
     "output_type": "execute_result"
    },
    {
     "data": {
      "image/png": "[encoded data removed]",
      "text/plain": [
       "<Figure size 640x480 with 1 Axes>"
      ]
     },
     "metadata": {},
     "output_type": "display_data"
    }
   ],
   "source": [
    "model_losses = pd.DataFrame(model.history.history)\n",
    "model_losses.plot()\n"
   ]
  },
  {
   "cell_type": "code",
   "execution_count": 13,
   "metadata": {},
   "outputs": [
    {
     "name": "stdout",
     "output_type": "stream",
     "text": [
      "713/713 [==============================] - 3s 3ms/step\n"
     ]
    },
    {
     "data": {
      "text/plain": [
       "19.899613950294874"
      ]
     },
     "execution_count": 13,
     "metadata": {},
     "output_type": "execute_result"
    }
   ],
   "source": [
    "# Make predictions\n",
    "predictions = model.predict(X_test_scaled)\n",
    "\n",
    "from sklearn.metrics import mean_absolute_error,mean_squared_error\n",
    "mean_absolute_error(y_test,predictions)\n"
   ]
  },
  {
   "cell_type": "code",
   "execution_count": 17,
   "metadata": {},
   "outputs": [],
   "source": [
    "model.save('model.h5') "
   ]
  }
 ],
 "metadata": {
  "kernelspec": {
   "display_name": "test",
   "language": "python",
   "name": "python3"
  },
  "language_info": {
   "codemirror_mode": {
    "name": "ipython",
    "version": 3
   },
   "file_extension": ".py",
   "mimetype": "text/x-python",
   "name": "python",
   "nbconvert_exporter": "python",
   "pygments_lexer": "ipython3",
   "version": "3.10.6"
  }
 },
 "nbformat": 4,
 "nbformat_minor": 2
}
