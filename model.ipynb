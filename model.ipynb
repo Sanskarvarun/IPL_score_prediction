{
 "cells": [
  {
   "cell_type": "code",
   "execution_count": 37,
   "metadata": {},
   "outputs": [],
   "source": [
    "import pandas as pd\n",
    "import numpy as np\n",
    "import matplotlib.pyplot as plt\n",
    "import seaborn as sns\n",
    "from sklearn import preprocessing\n",
    "import keras \n",
    "import tensorflow as tf \n"
   ]
  },
  {
   "cell_type": "code",
   "execution_count": 38,
   "metadata": {},
   "outputs": [
    {
     "data": {
      "text/html": [
       "<div>\n",
       "<style scoped>\n",
       "    .dataframe tbody tr th:only-of-type {\n",
       "        vertical-align: middle;\n",
       "    }\n",
       "\n",
       "    .dataframe tbody tr th {\n",
       "        vertical-align: top;\n",
       "    }\n",
       "\n",
       "    .dataframe thead th {\n",
       "        text-align: right;\n",
       "    }\n",
       "</style>\n",
       "<table border=\"1\" class=\"dataframe\">\n",
       "  <thead>\n",
       "    <tr style=\"text-align: right;\">\n",
       "      <th></th>\n",
       "      <th>mid</th>\n",
       "      <th>date</th>\n",
       "      <th>venue</th>\n",
       "      <th>bat_team</th>\n",
       "      <th>bowl_team</th>\n",
       "      <th>batsman</th>\n",
       "      <th>bowler</th>\n",
       "      <th>runs</th>\n",
       "      <th>wickets</th>\n",
       "      <th>overs</th>\n",
       "      <th>runs_last_5</th>\n",
       "      <th>wickets_last_5</th>\n",
       "      <th>striker</th>\n",
       "      <th>non-striker</th>\n",
       "      <th>total</th>\n",
       "    </tr>\n",
       "  </thead>\n",
       "  <tbody>\n",
       "    <tr>\n",
       "      <th>0</th>\n",
       "      <td>1</td>\n",
       "      <td>2008-04-18</td>\n",
       "      <td>M Chinnaswamy Stadium</td>\n",
       "      <td>Kolkata Knight Riders</td>\n",
       "      <td>Royal Challengers Bangalore</td>\n",
       "      <td>SC Ganguly</td>\n",
       "      <td>P Kumar</td>\n",
       "      <td>1</td>\n",
       "      <td>0</td>\n",
       "      <td>0.1</td>\n",
       "      <td>1</td>\n",
       "      <td>0</td>\n",
       "      <td>0</td>\n",
       "      <td>0</td>\n",
       "      <td>222</td>\n",
       "    </tr>\n",
       "    <tr>\n",
       "      <th>1</th>\n",
       "      <td>1</td>\n",
       "      <td>2008-04-18</td>\n",
       "      <td>M Chinnaswamy Stadium</td>\n",
       "      <td>Kolkata Knight Riders</td>\n",
       "      <td>Royal Challengers Bangalore</td>\n",
       "      <td>BB McCullum</td>\n",
       "      <td>P Kumar</td>\n",
       "      <td>1</td>\n",
       "      <td>0</td>\n",
       "      <td>0.2</td>\n",
       "      <td>1</td>\n",
       "      <td>0</td>\n",
       "      <td>0</td>\n",
       "      <td>0</td>\n",
       "      <td>222</td>\n",
       "    </tr>\n",
       "    <tr>\n",
       "      <th>2</th>\n",
       "      <td>1</td>\n",
       "      <td>2008-04-18</td>\n",
       "      <td>M Chinnaswamy Stadium</td>\n",
       "      <td>Kolkata Knight Riders</td>\n",
       "      <td>Royal Challengers Bangalore</td>\n",
       "      <td>BB McCullum</td>\n",
       "      <td>P Kumar</td>\n",
       "      <td>2</td>\n",
       "      <td>0</td>\n",
       "      <td>0.2</td>\n",
       "      <td>2</td>\n",
       "      <td>0</td>\n",
       "      <td>0</td>\n",
       "      <td>0</td>\n",
       "      <td>222</td>\n",
       "    </tr>\n",
       "    <tr>\n",
       "      <th>3</th>\n",
       "      <td>1</td>\n",
       "      <td>2008-04-18</td>\n",
       "      <td>M Chinnaswamy Stadium</td>\n",
       "      <td>Kolkata Knight Riders</td>\n",
       "      <td>Royal Challengers Bangalore</td>\n",
       "      <td>BB McCullum</td>\n",
       "      <td>P Kumar</td>\n",
       "      <td>2</td>\n",
       "      <td>0</td>\n",
       "      <td>0.3</td>\n",
       "      <td>2</td>\n",
       "      <td>0</td>\n",
       "      <td>0</td>\n",
       "      <td>0</td>\n",
       "      <td>222</td>\n",
       "    </tr>\n",
       "    <tr>\n",
       "      <th>4</th>\n",
       "      <td>1</td>\n",
       "      <td>2008-04-18</td>\n",
       "      <td>M Chinnaswamy Stadium</td>\n",
       "      <td>Kolkata Knight Riders</td>\n",
       "      <td>Royal Challengers Bangalore</td>\n",
       "      <td>BB McCullum</td>\n",
       "      <td>P Kumar</td>\n",
       "      <td>2</td>\n",
       "      <td>0</td>\n",
       "      <td>0.4</td>\n",
       "      <td>2</td>\n",
       "      <td>0</td>\n",
       "      <td>0</td>\n",
       "      <td>0</td>\n",
       "      <td>222</td>\n",
       "    </tr>\n",
       "  </tbody>\n",
       "</table>\n",
       "</div>"
      ],
      "text/plain": [
       "   mid        date                  venue               bat_team   \n",
       "0    1  2008-04-18  M Chinnaswamy Stadium  Kolkata Knight Riders  \\\n",
       "1    1  2008-04-18  M Chinnaswamy Stadium  Kolkata Knight Riders   \n",
       "2    1  2008-04-18  M Chinnaswamy Stadium  Kolkata Knight Riders   \n",
       "3    1  2008-04-18  M Chinnaswamy Stadium  Kolkata Knight Riders   \n",
       "4    1  2008-04-18  M Chinnaswamy Stadium  Kolkata Knight Riders   \n",
       "\n",
       "                     bowl_team      batsman   bowler  runs  wickets  overs   \n",
       "0  Royal Challengers Bangalore   SC Ganguly  P Kumar     1        0    0.1  \\\n",
       "1  Royal Challengers Bangalore  BB McCullum  P Kumar     1        0    0.2   \n",
       "2  Royal Challengers Bangalore  BB McCullum  P Kumar     2        0    0.2   \n",
       "3  Royal Challengers Bangalore  BB McCullum  P Kumar     2        0    0.3   \n",
       "4  Royal Challengers Bangalore  BB McCullum  P Kumar     2        0    0.4   \n",
       "\n",
       "   runs_last_5  wickets_last_5  striker  non-striker  total  \n",
       "0            1               0        0            0    222  \n",
       "1            1               0        0            0    222  \n",
       "2            2               0        0            0    222  \n",
       "3            2               0        0            0    222  \n",
       "4            2               0        0            0    222  "
      ]
     },
     "execution_count": 38,
     "metadata": {},
     "output_type": "execute_result"
    }
   ],
   "source": [
    "ipl = pd.read_csv('ipl_data.csv')\n",
    "ipl.head()\n"
   ]
  },
  {
   "cell_type": "code",
   "execution_count": 39,
   "metadata": {},
   "outputs": [],
   "source": [
    "#Dropping certain features \n",
    "df = ipl.drop(['date', 'runs', 'wickets', 'overs', 'runs_last_5', 'wickets_last_5','mid', 'striker', 'non-striker'], axis =1)\n"
   ]
  },
  {
   "cell_type": "code",
   "execution_count": 40,
   "metadata": {},
   "outputs": [],
   "source": [
    "X = df.drop(['total'], axis =1)\n",
    "y = df['total']"
   ]
  },
  {
   "cell_type": "code",
   "execution_count": 41,
   "metadata": {},
   "outputs": [],
   "source": [
    "#Label Encoding\n",
    "\n",
    "from sklearn.preprocessing import LabelEncoder\n",
    "\n",
    "# Create a LabelEncoder object for each categorical feature\n",
    "venue_encoder = LabelEncoder()\n",
    "batting_team_encoder = LabelEncoder()\n",
    "bowling_team_encoder = LabelEncoder()\n",
    "striker_encoder = LabelEncoder()\n",
    "bowler_encoder = LabelEncoder()\n",
    "\n",
    "# Fit and transform the categorical features with label encoding\n",
    "X['venue'] = venue_encoder.fit_transform(X['venue'])\n",
    "X['bat_team'] = batting_team_encoder.fit_transform(X['bat_team'])\n",
    "X['bowl_team'] = bowling_team_encoder.fit_transform(X['bowl_team'])\n",
    "X['batsman'] = striker_encoder.fit_transform(X['batsman'])\n",
    "X['bowler'] = bowler_encoder.fit_transform(X['bowler'])\n"
   ]
  },
  {
   "cell_type": "code",
   "execution_count": 42,
   "metadata": {},
   "outputs": [],
   "source": [
    "# Train test Split \n",
    "from sklearn.model_selection import train_test_split\n",
    "X_train, X_test, y_train, y_test = train_test_split(X, y, test_size=0.3, random_state=42)\n"
   ]
  },
  {
   "cell_type": "code",
   "execution_count": 43,
   "metadata": {},
   "outputs": [],
   "source": [
    "from sklearn.preprocessing import MinMaxScaler\n",
    "\n",
    "scaler = MinMaxScaler()\n",
    "\n",
    "# Fit the scaler on the training data and transform both training and testing data\n",
    "X_train_scaled = scaler.fit_transform(X_train)\n",
    "X_test_scaled = scaler.transform(X_test)\n"
   ]
  },
  {
   "cell_type": "code",
   "execution_count": 44,
   "metadata": {},
   "outputs": [],
   "source": [
    "import pickle\n",
    "pickle.dump(scaler, open('scaling.pkl', 'wb'))"
   ]
  },
  {
   "cell_type": "code",
   "execution_count": 45,
   "metadata": {},
   "outputs": [],
   "source": [
    "# Define the neural network model\n",
    "model = keras.Sequential([\n",
    "    keras.layers.Input( shape=(X_train_scaled.shape[1],)),  # Input layer\n",
    "    keras.layers.Dense(512, activation='relu'),  # Hidden layer with 512 units and ReLU activation\n",
    "    keras.layers.Dense(216, activation='relu'),  # Hidden layer with 216 units and ReLU activation\n",
    "    keras.layers.Dense(1, activation='linear')  # Output layer with linear activation for regression\n",
    "])\n",
    "\n",
    "# Compile the model with Huber loss\n",
    "huber_loss = tf.keras.losses.Huber(delta=1.0)  # You can adjust the 'delta' parameter as needed\n",
    "model.compile(optimizer='adam', loss=huber_loss)  # Use Huber loss for regression\n"
   ]
  },
  {
   "cell_type": "code",
   "execution_count": 46,
   "metadata": {},
   "outputs": [
    {
     "name": "stdout",
     "output_type": "stream",
     "text": [
      "Epoch 1/50\n",
      "832/832 [==============================] - 4s 4ms/step - loss: 32.3497 - val_loss: 22.0732\n",
      "Epoch 2/50\n",
      "832/832 [==============================] - 3s 3ms/step - loss: 22.3620 - val_loss: 22.0241\n",
      "Epoch 3/50\n",
      "832/832 [==============================] - 3s 4ms/step - loss: 22.2379 - val_loss: 21.9177\n",
      "Epoch 4/50\n",
      "832/832 [==============================] - 3s 4ms/step - loss: 22.2359 - val_loss: 21.8926\n",
      "Epoch 5/50\n",
      "832/832 [==============================] - 4s 5ms/step - loss: 22.2432 - val_loss: 22.2800\n",
      "Epoch 6/50\n",
      "832/832 [==============================] - 4s 4ms/step - loss: 22.1517 - val_loss: 21.9427\n",
      "Epoch 7/50\n",
      "832/832 [==============================] - 3s 4ms/step - loss: 22.1153 - val_loss: 22.0000\n",
      "Epoch 8/50\n",
      "832/832 [==============================] - 3s 3ms/step - loss: 22.0823 - val_loss: 21.9250\n",
      "Epoch 9/50\n",
      "832/832 [==============================] - 3s 4ms/step - loss: 22.1049 - val_loss: 22.1157\n",
      "Epoch 10/50\n",
      "832/832 [==============================] - 3s 4ms/step - loss: 22.0668 - val_loss: 21.7092\n",
      "Epoch 11/50\n",
      "832/832 [==============================] - 3s 3ms/step - loss: 22.0271 - val_loss: 21.8491\n",
      "Epoch 12/50\n",
      "832/832 [==============================] - 3s 3ms/step - loss: 21.9970 - val_loss: 21.6738\n",
      "Epoch 13/50\n",
      "832/832 [==============================] - 3s 4ms/step - loss: 22.0078 - val_loss: 21.6810\n",
      "Epoch 14/50\n",
      "832/832 [==============================] - 4s 5ms/step - loss: 22.0016 - val_loss: 22.1941\n",
      "Epoch 15/50\n",
      "832/832 [==============================] - 4s 5ms/step - loss: 21.9718 - val_loss: 21.6787\n",
      "Epoch 16/50\n",
      "832/832 [==============================] - 4s 5ms/step - loss: 21.9410 - val_loss: 21.6755\n",
      "Epoch 17/50\n",
      "832/832 [==============================] - 3s 3ms/step - loss: 21.8937 - val_loss: 21.8634\n",
      "Epoch 18/50\n",
      "832/832 [==============================] - 3s 3ms/step - loss: 21.8037 - val_loss: 21.5781\n",
      "Epoch 19/50\n",
      "832/832 [==============================] - 3s 4ms/step - loss: 21.6971 - val_loss: 21.3524\n",
      "Epoch 20/50\n",
      "832/832 [==============================] - 3s 4ms/step - loss: 21.6348 - val_loss: 21.3105\n",
      "Epoch 21/50\n",
      "832/832 [==============================] - 3s 3ms/step - loss: 21.5819 - val_loss: 21.2686\n",
      "Epoch 22/50\n",
      "832/832 [==============================] - 3s 3ms/step - loss: 21.6010 - val_loss: 21.3856\n",
      "Epoch 23/50\n",
      "832/832 [==============================] - 3s 3ms/step - loss: 21.5147 - val_loss: 21.3579\n",
      "Epoch 24/50\n",
      "832/832 [==============================] - 3s 4ms/step - loss: 21.4445 - val_loss: 21.2960\n",
      "Epoch 25/50\n",
      "832/832 [==============================] - 3s 4ms/step - loss: 21.3808 - val_loss: 21.0869\n",
      "Epoch 26/50\n",
      "832/832 [==============================] - 3s 4ms/step - loss: 21.3296 - val_loss: 21.0253\n",
      "Epoch 27/50\n",
      "832/832 [==============================] - 3s 4ms/step - loss: 21.2363 - val_loss: 21.5440\n",
      "Epoch 28/50\n",
      "832/832 [==============================] - 3s 4ms/step - loss: 21.1757 - val_loss: 20.9919\n",
      "Epoch 29/50\n",
      "832/832 [==============================] - 3s 4ms/step - loss: 21.1236 - val_loss: 20.9101\n",
      "Epoch 30/50\n",
      "832/832 [==============================] - 3s 4ms/step - loss: 21.0615 - val_loss: 21.5916\n",
      "Epoch 31/50\n",
      "832/832 [==============================] - 3s 4ms/step - loss: 20.9608 - val_loss: 20.7621\n",
      "Epoch 32/50\n",
      "832/832 [==============================] - 3s 4ms/step - loss: 20.8955 - val_loss: 20.9090\n",
      "Epoch 33/50\n",
      "832/832 [==============================] - 3s 4ms/step - loss: 20.7996 - val_loss: 20.6406\n",
      "Epoch 34/50\n",
      "832/832 [==============================] - 3s 4ms/step - loss: 20.6981 - val_loss: 20.3708\n",
      "Epoch 35/50\n",
      "832/832 [==============================] - 3s 4ms/step - loss: 20.5920 - val_loss: 20.3484\n",
      "Epoch 36/50\n",
      "832/832 [==============================] - 4s 5ms/step - loss: 20.5491 - val_loss: 20.5199\n",
      "Epoch 37/50\n",
      "832/832 [==============================] - 4s 4ms/step - loss: 20.4706 - val_loss: 20.1468\n",
      "Epoch 38/50\n",
      "832/832 [==============================] - 3s 4ms/step - loss: 20.3470 - val_loss: 20.0031\n",
      "Epoch 39/50\n",
      "832/832 [==============================] - 3s 4ms/step - loss: 20.2236 - val_loss: 19.9408\n",
      "Epoch 40/50\n",
      "832/832 [==============================] - 3s 4ms/step - loss: 20.1301 - val_loss: 19.9440\n",
      "Epoch 41/50\n",
      "832/832 [==============================] - 3s 4ms/step - loss: 20.0239 - val_loss: 19.6732\n",
      "Epoch 42/50\n",
      "832/832 [==============================] - 4s 4ms/step - loss: 19.9831 - val_loss: 19.7265\n",
      "Epoch 43/50\n",
      "832/832 [==============================] - 4s 4ms/step - loss: 19.8284 - val_loss: 19.6763\n",
      "Epoch 44/50\n",
      "832/832 [==============================] - 4s 4ms/step - loss: 19.7795 - val_loss: 19.4539\n",
      "Epoch 45/50\n",
      "832/832 [==============================] - 4s 4ms/step - loss: 19.6463 - val_loss: 19.2672\n",
      "Epoch 46/50\n",
      "832/832 [==============================] - 4s 5ms/step - loss: 19.5561 - val_loss: 19.3213\n",
      "Epoch 47/50\n",
      "832/832 [==============================] - 4s 5ms/step - loss: 19.4584 - val_loss: 20.4641\n",
      "Epoch 48/50\n",
      "832/832 [==============================] - 4s 5ms/step - loss: 19.3838 - val_loss: 19.3206\n",
      "Epoch 49/50\n",
      "832/832 [==============================] - 4s 5ms/step - loss: 19.2910 - val_loss: 19.1494\n",
      "Epoch 50/50\n",
      "832/832 [==============================] - 4s 5ms/step - loss: 19.2384 - val_loss: 18.9869\n"
     ]
    },
    {
     "data": {
      "text/plain": [
       "<keras.callbacks.History at 0x12213d60850>"
      ]
     },
     "execution_count": 46,
     "metadata": {},
     "output_type": "execute_result"
    }
   ],
   "source": [
    "# Train the model\n",
    "model.fit(X_train_scaled, y_train, epochs=50, batch_size=64, validation_data=(X_test_scaled, y_test))\n"
   ]
  },
  {
   "cell_type": "code",
   "execution_count": 47,
   "metadata": {},
   "outputs": [
    {
     "data": {
      "text/plain": [
       "<Axes: >"
      ]
     },
     "execution_count": 47,
     "metadata": {},
     "output_type": "execute_result"
    },
    {
     "data": {
      "image/png": "[encoded data removed]",
      "text/plain": [
       "<Figure size 640x480 with 1 Axes>"
      ]
     },
     "metadata": {},
     "output_type": "display_data"
    }
   ],
   "source": [
    "model_losses = pd.DataFrame(model.history.history)\n",
    "model_losses.plot()\n"
   ]
  },
  {
   "cell_type": "code",
   "execution_count": 48,
   "metadata": {},
   "outputs": [
    {
     "name": "stdout",
     "output_type": "stream",
     "text": [
      "713/713 [==============================] - 1s 1ms/step\n"
     ]
    },
    {
     "data": {
      "text/plain": [
       "19.478191012244714"
      ]
     },
     "execution_count": 48,
     "metadata": {},
     "output_type": "execute_result"
    }
   ],
   "source": [
    "# Make predictions\n",
    "predictions = model.predict(X_test_scaled)\n",
    "\n",
    "from sklearn.metrics import mean_absolute_error,mean_squared_error\n",
    "mean_absolute_error(y_test,predictions)\n"
   ]
  },
  {
   "cell_type": "code",
   "execution_count": 49,
   "metadata": {},
   "outputs": [],
   "source": [
    "model.save('model.h5') "
   ]
  }
 ],
 "metadata": {
  "kernelspec": {
   "display_name": "test",
   "language": "python",
   "name": "python3"
  },
  "language_info": {
   "codemirror_mode": {
    "name": "ipython",
    "version": 3
   },
   "file_extension": ".py",
   "mimetype": "text/x-python",
   "name": "python",
   "nbconvert_exporter": "python",
   "pygments_lexer": "ipython3",
   "version": "3.10.6"
  }
 },
 "nbformat": 4,
 "nbformat_minor": 2
}
